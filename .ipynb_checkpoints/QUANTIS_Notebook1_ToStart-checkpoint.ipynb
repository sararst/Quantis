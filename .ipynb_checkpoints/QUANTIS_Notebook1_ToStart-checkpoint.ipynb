{
 "cells": [
  {
   "cell_type": "markdown",
   "id": "65cbf9ec-4bdb-4310-bf8b-dc319656640b",
   "metadata": {},
   "source": [
    "# 1. Qubit States"
   ]
  },
  {
   "cell_type": "markdown",
   "id": "1ef56351-c6de-4de6-81e6-e9bf9c9c1b0b",
   "metadata": {},
   "source": [
    "We will start by understanding how to represent and write down qubit states. \n",
    "\n",
    "First, we need to import all the tools we will need:"
   ]
  },
  {
   "cell_type": "code",
   "execution_count": 69,
   "id": "bdb9251b-4eae-4a3f-ad1c-fae0dac3003a",
   "metadata": {},
   "outputs": [],
   "source": [
    "from qiskit import QuantumCircuit, assemble, Aer, BasicAer, execute\n",
    "from qiskit.visualization import plot_histogram, plot_bloch_vector, plot_bloch_multivector\n",
    "from math import sqrt, pi\n",
    "sim = Aer.get_backend('aer_simulator')"
   ]
  },
  {
   "cell_type": "markdown",
   "id": "2c440688-6564-41c2-a9f0-1106a6516c80",
   "metadata": {},
   "source": [
    "The fundamental unit of Qiskit is the quantum circuit. The basic element needed for your first program is the QuantumCircuit. We begin by creating a QuantumCircuit comprised of 1 qubit.  \n",
    "In Qiskit, we use the `QuantumCircuit` object to store our circuits, this is essentially a list of the quantum operations on our circuit and the qubits they are applied to."
   ]
  },
  {
   "cell_type": "code",
   "execution_count": 70,
   "id": "a0da86aa-5595-41ad-877d-207af9294ae7",
   "metadata": {},
   "outputs": [],
   "source": [
    "qc = QuantumCircuit(1) # Create a quantum circuit with one qubit"
   ]
  },
  {
   "cell_type": "markdown",
   "id": "9187eaa9-1223-42f4-a92d-947d2ef117d6",
   "metadata": {},
   "source": [
    "In our quantum circuits, our qubits always start out in the state $|0\\rangle$. We can use the `initialize()` method to transform this into any state. We give `initialize()` the vector we want in the form of a list, and tell it which qubit(s) we want to initialize in this state:"
   ]
  },
  {
   "cell_type": "code",
   "execution_count": 72,
   "id": "736ade4d-0d70-4daf-8682-dbbfdd402614",
   "metadata": {},
   "outputs": [
    {
     "data": {
      "image/png": "[encoded data removed]",
      "text/plain": [
       "<Figure size 133.526x84.28 with 1 Axes>"
      ]
     },
     "execution_count": 72,
     "metadata": {},
     "output_type": "execute_result"
    }
   ],
   "source": [
    "qc = QuantumCircuit(1)  # Create a quantum circuit with one qubit\n",
    "initial_state = [0,1]   # Define initial_state as |1>\n",
    "qc.initialize(initial_state, 0) # Apply initialisation operation to the 0th qubit\n",
    "qc.draw('mpl')  # Let's view our circuit"
   ]
  },
  {
   "cell_type": "markdown",
   "id": "6d10e147-8070-498b-971c-6cf16c1eb163",
   "metadata": {},
   "source": [
    "We can then use one of Qiskit’s simulators to view the resulting state of our qubit."
   ]
  },
  {
   "cell_type": "code",
   "execution_count": 73,
   "id": "d6476051-d021-40d8-97cf-000b326fd02f",
   "metadata": {},
   "outputs": [],
   "source": [
    "sim = Aer.get_backend('aer_simulator')  # Tell Qiskit how to simulate our circuit"
   ]
  },
  {
   "cell_type": "markdown",
   "id": "3b6bd02e-59ff-4c4b-8a52-996f930ff46b",
   "metadata": {},
   "source": [
    "To get the results from our circuit, we use run to execute our circuit, giving the circuit and the backend as arguments. We then use .result() to get the result of this:"
   ]
  },
  {
   "cell_type": "code",
   "execution_count": 74,
   "id": "0a237e0a-77f9-4b6e-a964-462c0238cc13",
   "metadata": {},
   "outputs": [],
   "source": [
    "qc = QuantumCircuit(1)  # Create a quantum circuit with one qubit\n",
    "initial_state = [0,1]   # Define initial_state as |1>\n",
    "qc.initialize(initial_state, 0) # Apply initialisation operation to the 0th qubit\n",
    "qc.save_statevector()   # Tell simulator to save statevector\n",
    "qobj = assemble(qc)     # Create a Qobj from the circuit for the simulator to run\n",
    "result = sim.run(qobj).result() # Do the simulation and return the result"
   ]
  },
  {
   "cell_type": "markdown",
   "id": "404e1dec-e9c9-42cb-abd8-af6c7a1f1f89",
   "metadata": {},
   "source": [
    "From `result`, we can then get the final statevector using `.get_statevector()`:"
   ]
  },
  {
   "cell_type": "code",
   "execution_count": 75,
   "id": "9a48caae-5150-421a-bf31-d37ffe02d222",
   "metadata": {},
   "outputs": [
    {
     "name": "stdout",
     "output_type": "stream",
     "text": [
      "Statevector([0.+0.j, 1.+0.j],\n",
      "            dims=(2,))\n"
     ]
    }
   ],
   "source": [
    "out_state = result.get_statevector()\n",
    "print(out_state) # Display the output state vector"
   ]
  },
  {
   "cell_type": "markdown",
   "id": "dfcbe6e2-2f55-4e02-970c-b79d0e6b976a",
   "metadata": {},
   "source": [
    "**Note:** Python uses `j` to represent $i$ in complex numbers. We see a vector with two complex elements: `0.+0.j` = 0, and `1.+0.j` = 1.\n",
    "\n",
    "Let’s now measure our qubit as we would in a real quantum computer and see the result:"
   ]
  },
  {
   "cell_type": "code",
   "execution_count": 76,
   "id": "e7cd7474-6414-4eef-b463-054c32545926",
   "metadata": {},
   "outputs": [
    {
     "data": {
      "image/png": "[encoded data removed]",
      "text/plain": [
       "<Figure size 357.679x144.48 with 1 Axes>"
      ]
     },
     "execution_count": 76,
     "metadata": {},
     "output_type": "execute_result"
    }
   ],
   "source": [
    "qc.measure_all()\n",
    "qc.draw('mpl')"
   ]
  },
  {
   "cell_type": "markdown",
   "id": "bc7071ad-d70c-4950-b92d-fcd572a42d46",
   "metadata": {},
   "source": [
    "This time, instead of the statevector we will get the counts for the `0` and `1` results using `.get_counts()`:"
   ]
  },
  {
   "cell_type": "code",
   "execution_count": 77,
   "id": "49be0c26-baa0-4384-9164-6a94253253a8",
   "metadata": {},
   "outputs": [
    {
     "data": {
      "image/png": "[encoded data removed]",
      "text/plain": [
       "<Figure size 504x360 with 1 Axes>"
      ]
     },
     "execution_count": 77,
     "metadata": {},
     "output_type": "execute_result"
    }
   ],
   "source": [
    "qobj = assemble(qc)\n",
    "#result = sim.run(qobj).result()\n",
    "#counts = result.get_counts()\n",
    "counts2 = sim.run(qobj).result().get_counts()\n",
    "plot_histogram(counts2)"
   ]
  },
  {
   "cell_type": "markdown",
   "id": "4f924239-96db-49d7-9fd9-83f6a7180d4d",
   "metadata": {},
   "source": [
    "We can see that we (unsurprisingly) have a 100% chance of measuring $|1\\rangle$. This time, let’s instead put our qubit into a superposition and see what happens. We will use the state $|q_0\\rangle$ from earlier in this section:\n",
    "\n",
    "$$ |q_0\\rangle = \\tfrac{1}{\\sqrt{2}}|0\\rangle + \\tfrac{i}{\\sqrt{2}}|1\\rangle $$\n",
    "\n",
    "We need to add these amplitudes to a python list. To add a complex amplitude, Python uses `j` for the imaginary unit (we normally call it \"$i$\" mathematically):"
   ]
  },
  {
   "cell_type": "code",
   "execution_count": 78,
   "id": "ccb98c15-b8a5-4272-add9-fc989a7b974a",
   "metadata": {},
   "outputs": [],
   "source": [
    "initial_state = [1/sqrt(2), 1j/sqrt(2)]  # Define state |q_0>"
   ]
  },
  {
   "cell_type": "markdown",
   "id": "7814d112-1439-4366-9682-9fbe9e2a6975",
   "metadata": {},
   "source": [
    "And we then repeat the steps for initialising the qubit as before:"
   ]
  },
  {
   "cell_type": "code",
   "execution_count": 79,
   "id": "f45c1aae-aec6-4b01-9f54-67c8fff0013d",
   "metadata": {},
   "outputs": [
    {
     "name": "stdout",
     "output_type": "stream",
     "text": [
      "Statevector([0.70710678+0.j        , 0.        +0.70710678j],\n",
      "            dims=(2,))\n"
     ]
    }
   ],
   "source": [
    "qc = QuantumCircuit(1) # Must redefine qc\n",
    "qc.initialize(initial_state, 0) # Initialize the 0th qubit in the state `initial_state`\n",
    "qc.save_statevector() # Save statevector\n",
    "qobj = assemble(qc)\n",
    "state = sim.run(qobj).result().get_statevector() # Execute the circuit\n",
    "print(state)           # Print the result"
   ]
  },
  {
   "cell_type": "code",
   "execution_count": 80,
   "id": "24ea56ec-4287-4b57-9934-5d30a309bcac",
   "metadata": {},
   "outputs": [
    {
     "data": {
      "image/png": "[encoded data removed]",
      "text/plain": [
       "<Figure size 504x360 with 1 Axes>"
      ]
     },
     "execution_count": 80,
     "metadata": {},
     "output_type": "execute_result"
    }
   ],
   "source": [
    "qobj = assemble(qc)\n",
    "results = sim.run(qobj).result().get_counts()\n",
    "plot_histogram(results)"
   ]
  },
  {
   "cell_type": "markdown",
   "id": "8f9f2bbf-cc0c-4c53-a92f-f8c7418cee9c",
   "metadata": {},
   "source": [
    "We can see we have equal probability of measuring either $|0\\rangle$ or $|1\\rangle$. "
   ]
  },
  {
   "cell_type": "markdown",
   "id": "5a3165be-084a-446e-83d3-8034744f868d",
   "metadata": {},
   "source": [
    "##  1.1 Measurements and the Observer Effect\n",
    "\n",
    "We know that the amplitudes contain information about the probability of us finding the qubit in a specific state, but once we have measured the qubit, we know with certainty what the state of the qubit is. For example, if we measure a qubit in the state:\n",
    "\n",
    "$$ |q\\rangle = \\alpha|0\\rangle + \\beta|1\\rangle$$\n",
    "\n",
    "And find it in the state $|0\\rangle$, if we measure again, there is a 100% chance of finding the qubit in the state $|0\\rangle$. This means the act of measuring _changes_ the state of our qubits.\n",
    "\n",
    "$$ |q\\rangle = \\begin{bmatrix} \\alpha \\\\ \\beta \\end{bmatrix} \\xrightarrow{\\text{Measure }|0\\rangle} |q\\rangle = |0\\rangle = \\begin{bmatrix} 1 \\\\ 0 \\end{bmatrix}$$\n",
    "\n",
    "We sometimes refer to this as _collapsing_ the state of the qubit. It is a potent effect, and so one that must be used wisely. For example, were we to constantly measure each of our qubits to keep track of their value at each point in a computation, they would always simply be in a well-defined state of either $|0\\rangle$ or $|1\\rangle$. As such, they would be no different from classical bits and our computation could be easily replaced by a classical computation. To achieve truly quantum computation we must allow the qubits to explore more complex states. Measurements are therefore only used when we need to extract an output. This means that we often place all the measurements at the end of our quantum circuit. \n",
    "\n",
    "We can demonstrate this using Qiskit’s statevector simulator. Let's initialize a qubit in superposition:"
   ]
  },
  {
   "cell_type": "code",
   "execution_count": 81,
   "id": "02322abb-ee25-4d8f-9b83-086ed3a97bd1",
   "metadata": {},
   "outputs": [
    {
     "data": {
      "image/png": "[encoded data removed]",
      "text/plain": [
       "<Figure size 193.726x84.28 with 1 Axes>"
      ]
     },
     "execution_count": 81,
     "metadata": {},
     "output_type": "execute_result"
    }
   ],
   "source": [
    "qc = QuantumCircuit(1) # We are redefining qc\n",
    "initial_state = [0.+1.j/sqrt(2),1/sqrt(2)+0.j]\n",
    "qc.initialize(initial_state, 0)\n",
    "qc.draw('mpl')"
   ]
  },
  {
   "cell_type": "markdown",
   "id": "40c8f538-5028-40c6-b6ad-0ae7cc66f1fb",
   "metadata": {},
   "source": [
    "This should initialize our qubit in the state:\n",
    "\n",
    "$$ |q\\rangle = \\tfrac{i}{\\sqrt{2}}|0\\rangle + \\tfrac{1}{\\sqrt{2}}|1\\rangle $$\n",
    "\n",
    "We can verify this using the simulator:"
   ]
  },
  {
   "cell_type": "code",
   "execution_count": 82,
   "id": "c8dc34bf-4176-4bfb-a1a5-100b009b1e59",
   "metadata": {},
   "outputs": [
    {
     "name": "stdout",
     "output_type": "stream",
     "text": [
      "Qubit State = Statevector([0.        +0.70710678j, 0.70710678+0.j        ],\n",
      "            dims=(2,))\n"
     ]
    }
   ],
   "source": [
    "qc.save_statevector()\n",
    "result = sim.run(assemble(qc)).result()\n",
    "state = result.get_statevector()\n",
    "print(\"Qubit State = \" + str(state))"
   ]
  },
  {
   "cell_type": "markdown",
   "id": "6e50132d-99e5-455b-b2ef-fe11485aa48d",
   "metadata": {},
   "source": [
    "We can see here the qubit is initialized in the state `[0.+0.70710678j 0.70710678+0.j]`, which is the state we expected.\n",
    "\n",
    "Let’s now create a circuit where we measure this qubit:"
   ]
  },
  {
   "cell_type": "code",
   "execution_count": 83,
   "id": "96913521-4825-41c8-975c-008632d04115",
   "metadata": {},
   "outputs": [
    {
     "data": {
      "image/png": "[encoded data removed]",
      "text/plain": [
       "<Figure size 417.879x144.48 with 1 Axes>"
      ]
     },
     "execution_count": 83,
     "metadata": {},
     "output_type": "execute_result"
    }
   ],
   "source": [
    "qc = QuantumCircuit(1) # We are redefining qc\n",
    "initial_state = [0.+1.j/sqrt(2),1/sqrt(2)+0.j]\n",
    "qc.initialize(initial_state, 0)\n",
    "qc.measure_all()\n",
    "qc.save_statevector()\n",
    "qc.draw('mpl')"
   ]
  },
  {
   "cell_type": "markdown",
   "id": "00b1cfcf-862d-49cf-938f-69c3dc166c5f",
   "metadata": {},
   "source": [
    "When we simulate this entire circuit, we can see that one of the amplitudes is _always_ 0:"
   ]
  },
  {
   "cell_type": "code",
   "execution_count": 84,
   "id": "b00b5b41-8296-41f5-bb38-5a0df09b3442",
   "metadata": {},
   "outputs": [
    {
     "name": "stdout",
     "output_type": "stream",
     "text": [
      "State of Measured Qubit = Statevector([0.+1.j, 0.+0.j],\n",
      "            dims=(2,))\n"
     ]
    }
   ],
   "source": [
    "qobj = assemble(qc)\n",
    "state = sim.run(qobj).result().get_statevector()\n",
    "print(\"State of Measured Qubit = \" + str(state))"
   ]
  },
  {
   "cell_type": "markdown",
   "id": "6db55471-b6b7-4d09-bb77-e76b1b764025",
   "metadata": {},
   "source": [
    "You can re-run this cell a few times to reinitialize the qubit and measure it again. You will notice that either outcome is equally probable, but that the state of the qubit is never a superposition of $|0\\rangle$ and $|1\\rangle$. Somewhat interestingly, the global phase on the state $|0\\rangle$ survives, but since this is global phase, we can never measure it on a real quantum computer.\n",
    "\n",
    "### A Note about Quantum Simulators\n",
    "\n",
    "We can see that writing down a qubit’s state requires keeping track of two complex numbers, but when using a real quantum computer we will only ever receive a yes-or-no (`0` or `1`) answer for each qubit. The output of a 10-qubit quantum computer will look like this:\n",
    "\n",
    "`0110111110`\n",
    "\n",
    "Just 10 bits, no superposition or complex amplitudes. When using a real quantum computer, we cannot see the states of our qubits mid-computation, as this would destroy them! This behaviour is not ideal for learning, so Qiskit provides different quantum simulators: By default, the `aer_simulator` mimics the execution of a real quantum computer, but will also allow you to peek at quantum states before measurement if we include certain instructions in our circuit. For example, here we have included the instruction `.save_statevector()`, which means we can use `.get_statevector()` on the result of the simulation. "
   ]
  },
  {
   "cell_type": "markdown",
   "id": "11f7595a-5bde-460b-bb8e-b309e4c54765",
   "metadata": {},
   "source": [
    "# 2. Single Qubit Gates"
   ]
  },
  {
   "cell_type": "code",
   "execution_count": 85,
   "id": "f0ce6707-5138-4ecb-815b-b76d60c235b5",
   "metadata": {},
   "outputs": [],
   "source": [
    "from qiskit import QuantumCircuit, assemble, Aer\n",
    "from math import pi, sqrt\n",
    "from qiskit.visualization import plot_bloch_multivector, plot_histogram\n",
    "sim = Aer.get_backend('aer_simulator')"
   ]
  },
  {
   "cell_type": "markdown",
   "id": "19bec7bb-a1c5-4329-95df-3ebc4793c262",
   "metadata": {},
   "source": [
    "## 2.1 The Pauli Gates <a id=\"pauli\"></a>\n",
    "We will start here by undertanding how to put a Pauli gate in a quantum circuit.\n",
    "\n",
    "### 2.1.1 The X-Gate <a id=\"xgate\"></a>\n",
    "The X-gate is represented by the Pauli-X matrix:\n",
    "\n",
    "$$ X = \\begin{bmatrix} 0 & 1 \\\\ 1 & 0 \\end{bmatrix} = |0\\rangle\\langle1| + |1\\rangle\\langle0| $$\n",
    "\n",
    "In Qiskit, we can create a short circuit to verify this:"
   ]
  },
  {
   "cell_type": "code",
   "execution_count": 86,
   "id": "94d59c8f-5a2e-4d41-b53f-54cd40e3825d",
   "metadata": {},
   "outputs": [
    {
     "data": {
      "image/png": "[encoded data removed]",
      "text/plain": [
       "<Figure size 133.526x84.28 with 1 Axes>"
      ]
     },
     "execution_count": 86,
     "metadata": {},
     "output_type": "execute_result"
    }
   ],
   "source": [
    "# Let's do an X-gate on a |0> qubit\n",
    "qc = QuantumCircuit(1)\n",
    "qc.x(0)\n",
    "qc.draw('mpl')"
   ]
  },
  {
   "cell_type": "markdown",
   "id": "c700f752-0b09-4b11-8b9d-ce4d30370def",
   "metadata": {},
   "source": [
    "### 2.1.2 The Y & Z-gates  <a id=\"ynzgatez\"></a>\n",
    "Similarly to the X-gate, the Y & Z Pauli matrices also act as the Y & Z-gates in our quantum circuits:\n",
    "\n",
    "\n",
    "$$ Y = \\begin{bmatrix} 0 & -i \\\\ i & 0 \\end{bmatrix} \\quad\\quad\\quad\\quad Z = \\begin{bmatrix} 1 & 0 \\\\ 0 & -1 \\end{bmatrix} $$\n",
    "\n",
    "$$ Y = -i|0\\rangle\\langle1| + i|1\\rangle\\langle0| \\quad\\quad Z = |0\\rangle\\langle0| - |1\\rangle\\langle1| $$\n",
    "\n",
    "\n",
    "Below is a widget that displays a qubit’s state on the Bloch sphere, pressing one of the buttons will perform the gate on the qubit:"
   ]
  },
  {
   "cell_type": "code",
   "execution_count": 87,
   "id": "c3a4033f-df25-42bd-84f3-0e89eb08cfc3",
   "metadata": {},
   "outputs": [
    {
     "data": {
      "application/vnd.jupyter.widget-view+json": {
       "model_id": "2f1c05a74e134a5793c270c1d4898cd3",
       "version_major": 2,
       "version_minor": 0
      },
      "text/plain": [
       "HBox(children=(Button(description='X', layout=Layout(height='3em', width='3em'), style=ButtonStyle()), Button(…"
      ]
     },
     "metadata": {},
     "output_type": "display_data"
    },
    {
     "data": {
      "application/vnd.jupyter.widget-view+json": {
       "model_id": "2523ac067cf04ca4bbfd57607a2e884b",
       "version_major": 2,
       "version_minor": 0
      },
      "text/plain": [
       "Image(value=b'\\x89PNG\\r\\n\\x1a\\n\\x00\\x00\\x00\\rIHDR\\x00\\x00\\x01 \\x00\\x00\\x01 \\x08\\x06\\x00\\x00\\x00\\x14\\x83\\xae\\x8…"
      ]
     },
     "metadata": {},
     "output_type": "display_data"
    }
   ],
   "source": [
    "# Run the code in this cell to see the widget\n",
    "from qiskit_textbook.widgets import gate_demo\n",
    "gate_demo(gates='pauli')"
   ]
  },
  {
   "cell_type": "markdown",
   "id": "ac9c39ef-86f4-4dbd-a4a8-cf14e3dd3953",
   "metadata": {},
   "source": [
    "In Qiskit, we can apply the Y and Z-gates to our circuit using:"
   ]
  },
  {
   "cell_type": "code",
   "execution_count": 88,
   "id": "6bfb4675-2b11-458e-9902-1bddfef8ce4d",
   "metadata": {},
   "outputs": [
    {
     "data": {
      "image/png": "[encoded data removed]",
      "text/plain": [
       "<Figure size 253.926x84.28 with 1 Axes>"
      ]
     },
     "execution_count": 88,
     "metadata": {},
     "output_type": "execute_result"
    }
   ],
   "source": [
    "qc.y(0) # Do Y-gate on qubit 0\n",
    "qc.z(0) # Do Z-gate on qubit 0\n",
    "qc.draw('mpl')"
   ]
  },
  {
   "cell_type": "markdown",
   "id": "7e291ae9-6d38-4fbe-994d-b1f52b02c8d8",
   "metadata": {},
   "source": [
    "## 2.2 The Hadamard Gate  <a id=\"hgate\"></a>\n",
    "\n",
    "The Hadamard gate (H-gate) is a fundamental quantum gate. It allows us to move away from the poles of the Bloch sphere and create a superposition of $|0\\rangle$ and $|1\\rangle$. It has the matrix:\n",
    "\n",
    "$$ H = \\tfrac{1}{\\sqrt{2}}\\begin{bmatrix} 1 & 1 \\\\ 1 & -1 \\end{bmatrix} $$\n",
    "\n",
    "We can see that this performs the transformations below:\n",
    "\n",
    "$$ H|0\\rangle = |+\\rangle $$\n",
    "\n",
    "$$ H|1\\rangle = |-\\rangle $$\n",
    "\n",
    "This can be thought of as a rotation around the Bloch vector `[1,0,1]` (the line between the x & z-axis), or as transforming the state of the qubit between the X and Z bases.\n",
    "\n",
    "You can play around with these gates using the widget below:"
   ]
  },
  {
   "cell_type": "code",
   "execution_count": 89,
   "id": "1c01e315-b5ed-46b6-927f-5ade3105db04",
   "metadata": {},
   "outputs": [
    {
     "data": {
      "application/vnd.jupyter.widget-view+json": {
       "model_id": "2c4387cf25f342eda2b5f180ee0c9132",
       "version_major": 2,
       "version_minor": 0
      },
      "text/plain": [
       "HBox(children=(Button(description='X', layout=Layout(height='3em', width='3em'), style=ButtonStyle()), Button(…"
      ]
     },
     "metadata": {},
     "output_type": "display_data"
    },
    {
     "data": {
      "application/vnd.jupyter.widget-view+json": {
       "model_id": "92bc1f5379144691828e431b75f53758",
       "version_major": 2,
       "version_minor": 0
      },
      "text/plain": [
       "Image(value=b'\\x89PNG\\r\\n\\x1a\\n\\x00\\x00\\x00\\rIHDR\\x00\\x00\\x01 \\x00\\x00\\x01 \\x08\\x06\\x00\\x00\\x00\\x14\\x83\\xae\\x8…"
      ]
     },
     "metadata": {},
     "output_type": "display_data"
    }
   ],
   "source": [
    "# Run the code in this cell to see the widget\n",
    "from qiskit_textbook.widgets import gate_demo\n",
    "gate_demo(gates='pauli+h')"
   ]
  },
  {
   "cell_type": "markdown",
   "id": "647b9cb0-7039-4883-ac59-bf3cede8ad5c",
   "metadata": {},
   "source": [
    "## EXERCISE TO DO\n",
    "1. Show that applying the sequence of gates: HZH, to any qubit state is equivalent to applying an X-gate.\n",
    "2. Find a combination of X, Z and H-gates that is equivalent to a Y-gate (ignoring global phase)."
   ]
  },
  {
   "cell_type": "markdown",
   "id": "ad098e66-d7a9-4b6b-ad5d-657f82893d12",
   "metadata": {},
   "source": [
    "## 2.3 The I, S and T-gates  <a id=\"istgates\"></a>\n",
    "\n",
    "### 2.3.1 The I-gate  <a id=\"igate\"></a>\n",
    "\n",
    "First comes the I-gate (‘Identity gate’). This is simply a gate that does nothing. Its matrix is the identity matrix:\n",
    "\n",
    "$$\n",
    "I = \\begin{bmatrix} 1 & 0 \\\\ 0 & 1\\end{bmatrix}\n",
    "$$\n",
    "\n",
    "Applying the identity gate anywhere in your circuit should have no effect on the qubit state, so it’s interesting this is even considered a gate. There are two main reasons behind this, one is that it is often used in calculations, for example: proving the X-gate is its own inverse:\n",
    "\n",
    "$$ I = XX $$\n",
    "\n",
    "The second, is that it is often useful when considering real hardware to specify a ‘do-nothing’ or ‘none’ operation.\n",
    "\n",
    "\n",
    "\n",
    "### 2.3.2 The S-gates  <a id=\"sgate\"></a>\n",
    "\n",
    "The next gate to mention is the S-gate (sometimes known as the $\\sqrt{Z}$-gate). It does a quarter-turn around the Bloch sphere. It is important to note the S-gate is **not** its own inverse! As a result, you will often see the S<sup>†</sup>-gate, (also “S-dagger”, “Sdg” or $\\sqrt{Z}^\\dagger$-gate).  \n",
    "\n",
    "$$ S = \\begin{bmatrix} 1 & 0 \\\\ 0 & e^{\\frac{i\\pi}{2}} \\end{bmatrix}, \\quad  S^\\dagger = \\begin{bmatrix} 1 & 0 \\\\ 0 & e^{-\\frac{i\\pi}{2}} \\end{bmatrix}$$\n",
    "\n",
    "\n",
    "To add an S-gate in Qiskit:"
   ]
  },
  {
   "cell_type": "code",
   "execution_count": 94,
   "id": "96cb133e-f34e-4f7d-a4a2-b065a6bee6c3",
   "metadata": {},
   "outputs": [
    {
     "data": {
      "image/png": "[encoded data removed]",
      "text/plain": [
       "<Figure size 193.726x84.28 with 1 Axes>"
      ]
     },
     "execution_count": 94,
     "metadata": {},
     "output_type": "execute_result"
    }
   ],
   "source": [
    "qc = QuantumCircuit(1)\n",
    "qc.s(0)   # Apply S-gate to qubit 0\n",
    "qc.sdg(0) # Apply Sdg-gate to qubit 0\n",
    "qc.draw('mpl')"
   ]
  },
  {
   "cell_type": "markdown",
   "id": "23e125b0-db4f-4664-9687-a0bf83e6dadf",
   "metadata": {},
   "source": [
    "# 3. Multiple Qubits & Entangled States\n",
    "\n",
    "We will now look at how we represent multiple qubits, and how these qubits can interact with each other. We have seen how we can represent the state of a qubit using a 2D-vector, now we will see how we can represent the state of multiple qubits.\n",
    "\n",
    "A single bit has two possible states, and a qubit state has two complex amplitudes. Similarly, two bits have four possible states:\n",
    "\n",
    "`00` `01` `10` `11`\n",
    "\n",
    "To describe the state of two qubits requires four complex amplitudes. We store these amplitudes in a 4D-vector like so:\n",
    "\n",
    "$$ |a\\rangle = a_{00}|00\\rangle + a_{01}|01\\rangle + a_{10}|10\\rangle + a_{11}|11\\rangle = \\begin{bmatrix} a_{00} \\\\ a_{01} \\\\ a_{10} \\\\ a_{11} \\end{bmatrix} $$\n",
    "\n",
    "If we have $n$ qubits, we will need to keep track of $2^n$ complex amplitudes. As we can see, these vectors grow exponentially with the number of qubits. This is the reason quantum computers with large numbers of qubits are so difficult to simulate. A modern laptop can easily simulate a general quantum state of around 20 qubits, but simulating 100 qubits is too difficult for the largest supercomputers.\n",
    "\n",
    "Let's look at an example circuit:"
   ]
  },
  {
   "cell_type": "code",
   "execution_count": 95,
   "id": "2b1fba18-2a34-435a-ad43-7111d1b5cc51",
   "metadata": {},
   "outputs": [
    {
     "data": {
      "image/png": "[encoded data removed]",
      "text/plain": [
       "<Figure size 146.797x204.68 with 1 Axes>"
      ]
     },
     "execution_count": 95,
     "metadata": {},
     "output_type": "execute_result"
    }
   ],
   "source": [
    "qc = QuantumCircuit(3)\n",
    "# Apply H-gate to each qubit:\n",
    "for qubit in range(3):\n",
    "    qc.h(qubit)\n",
    "# See the circuit:\n",
    "qc.draw('mpl')"
   ]
  },
  {
   "cell_type": "markdown",
   "id": "52cd5211-5dbf-4fc6-abe4-4eae86d8ae37",
   "metadata": {},
   "source": [
    "Each qubit is in the state $|+\\rangle$, so we should see the vector:\n",
    "\n",
    "$$ \n",
    "|{+++}\\rangle = \\frac{1}{\\sqrt{8}}\\begin{bmatrix} 1 \\\\ 1 \\\\ 1 \\\\ 1 \\\\\n",
    "                              1 \\\\ 1 \\\\ 1 \\\\ 1 \\\\\n",
    "              \\end{bmatrix}\n",
    "$$"
   ]
  },
  {
   "cell_type": "code",
   "execution_count": 96,
   "id": "a4b0641c-6cd2-4bd8-9ed0-ea5324d816e8",
   "metadata": {},
   "outputs": [
    {
     "data": {
      "text/latex": [
       "$$\n",
       "\\text{Statevector} = \n",
       "\\begin{bmatrix}\n",
       "\\tfrac{1}{\\sqrt{8}} & \\tfrac{1}{\\sqrt{8}} & \\tfrac{1}{\\sqrt{8}} & \\tfrac{1}{\\sqrt{8}} & \\tfrac{1}{\\sqrt{8}} & \\tfrac{1}{\\sqrt{8}} & \\tfrac{1}{\\sqrt{8}} & \\tfrac{1}{\\sqrt{8}}  \\\\\n",
       " \\end{bmatrix}\n",
       "$$"
      ],
      "text/plain": [
       "<IPython.core.display.Latex object>"
      ]
     },
     "execution_count": 96,
     "metadata": {},
     "output_type": "execute_result"
    }
   ],
   "source": [
    "# Let's see the result\n",
    "svsim = Aer.get_backend('aer_simulator')\n",
    "qc.save_statevector()\n",
    "qobj = assemble(qc)\n",
    "final_state = svsim.run(qobj).result().get_statevector()\n",
    "\n",
    "# In Jupyter Notebooks we can display this nicely using Latex.\n",
    "# If not using Jupyter Notebooks you may need to remove the \n",
    "# array_to_latex function and use print(final_state) instead.\n",
    "from qiskit.visualization import array_to_latex\n",
    "array_to_latex(final_state, prefix=\"\\\\text{Statevector} = \")"
   ]
  },
  {
   "cell_type": "markdown",
   "id": "b67e17b4-5c9f-4665-875d-e6bf6efa9194",
   "metadata": {},
   "source": [
    "## 3.1 Single Qubit Gates on Multi-Qubit Statevectors <a id=\"single-qubit-gates\"></a>\n",
    "\n",
    "We have seen that an X-gate is represented by the matrix:\n",
    "\n",
    "$$\n",
    "X = \\begin{bmatrix} 0 & 1 \\\\ 1 & 0 \\end{bmatrix}\n",
    "$$\n",
    "\n",
    "And that it acts on the state $|0\\rangle$ as so:\n",
    "\n",
    "$$\n",
    "X|0\\rangle = \\begin{bmatrix} 0 & 1 \\\\ 1 & 0 \\end{bmatrix}\\begin{bmatrix} 1 \\\\ 0 \\end{bmatrix} = \\begin{bmatrix} 0 \\\\ 1\\end{bmatrix}\n",
    "$$\n",
    "\n",
    "but it may not be clear how an X-gate would act on a qubit in a multi-qubit vector. Fortunately, the rule is quite simple; just as we used the kronecker product to calculate multi-qubit statevectors, we use the tensor product to calculate matrices that act on these statevectors. For example, in the circuit below:"
   ]
  },
  {
   "cell_type": "code",
   "execution_count": 97,
   "id": "216b6845-dfda-4785-bee0-45eed6e5f45f",
   "metadata": {},
   "outputs": [
    {
     "data": {
      "image/png": "[encoded data removed]",
      "text/plain": [
       "<Figure size 146.652x144.48 with 1 Axes>"
      ]
     },
     "execution_count": 97,
     "metadata": {},
     "output_type": "execute_result"
    }
   ],
   "source": [
    "qc = QuantumCircuit(2)\n",
    "qc.h(0)\n",
    "qc.x(1)\n",
    "qc.draw('mpl')"
   ]
  },
  {
   "cell_type": "markdown",
   "id": "6290fc6b-0ea0-4c5d-a60b-6473ea37df16",
   "metadata": {},
   "source": [
    "we can represent the simultaneous operations (H & X) using their kronecker product:\n",
    "\n",
    "$$\n",
    "X|q_1\\rangle \\otimes H|q_0\\rangle = (X\\otimes H)|q_1 q_0\\rangle\n",
    "$$\n",
    "\n",
    "The operation looks like this:\n",
    "\n",
    "$$\n",
    "X\\otimes H = \\begin{bmatrix} 0 & 1 \\\\ 1 & 0 \\end{bmatrix} \\otimes \\tfrac{1}{\\sqrt{2}}\\begin{bmatrix} 1 & 1 \\\\ 1 & -1 \\end{bmatrix}\n",
    "$$\n",
    "\n",
    "$$\n",
    "= \\frac{1}{\\sqrt{2}}\n",
    "\\begin{bmatrix} 0 \\times \\begin{bmatrix} 1 & 1 \\\\ 1 & -1 \\end{bmatrix}\n",
    "              & 1 \\times \\begin{bmatrix} 1 & 1 \\\\ 1 & -1 \\end{bmatrix}\n",
    "                \\\\ \n",
    "                1 \\times \\begin{bmatrix} 1 & 1 \\\\ 1 & -1 \\end{bmatrix}\n",
    "              & 0 \\times \\begin{bmatrix} 1 & 1 \\\\ 1 & -1 \\end{bmatrix}\n",
    "\\end{bmatrix} \n",
    "$$\n",
    "\n",
    "$$\n",
    "= \\frac{1}{\\sqrt{2}}\n",
    "\\begin{bmatrix} 0 & 0 & 1 & 1 \\\\\n",
    "                0 & 0 & 1 & -1 \\\\\n",
    "                1 & 1 & 0 & 0 \\\\\n",
    "                1 & -1 & 0 & 0 \\\\\n",
    "\\end{bmatrix}\n",
    "$$\n",
    "\n",
    "Which we can then apply to our 4D statevector $|q_1 q_0\\rangle$. This can become quite messy, you will often see the clearer notation:\n",
    "\n",
    "$$\n",
    "X\\otimes H = \n",
    "\\begin{bmatrix} 0 & H \\\\\n",
    "               H & 0\\\\\n",
    "\\end{bmatrix}\n",
    "$$\n",
    "\n",
    "Instead of calculating this by hand, we can use Qiskit’s `aer_simulator` to calculate this for us. The Aer simulator multiplies all the gates in our circuit together to compile a single unitary matrix that performs the whole quantum circuit:"
   ]
  },
  {
   "cell_type": "code",
   "execution_count": 98,
   "id": "fee1fb85-6efe-418f-983c-88238b30c04b",
   "metadata": {},
   "outputs": [],
   "source": [
    "usim = Aer.get_backend('aer_simulator')\n",
    "qc.save_unitary()\n",
    "qobj = assemble(qc)\n",
    "unitary = usim.run(qobj).result().get_unitary()"
   ]
  },
  {
   "cell_type": "markdown",
   "id": "4d294371-5e76-4da8-a2f3-b216f661e59b",
   "metadata": {},
   "source": [
    "Then, the result is as follows:"
   ]
  },
  {
   "cell_type": "code",
   "execution_count": 99,
   "id": "566f1022-5b24-477c-829c-db4234c86d7d",
   "metadata": {},
   "outputs": [
    {
     "data": {
      "text/latex": [
       "$$\n",
       "\\text{Circuit = }\n",
       "\n",
       "\\begin{bmatrix}\n",
       "0 & 0 & \\tfrac{1}{\\sqrt{2}} & \\tfrac{1}{\\sqrt{2}}  \\\\\n",
       " 0 & 0 & \\tfrac{1}{\\sqrt{2}} & -\\tfrac{1}{\\sqrt{2}}  \\\\\n",
       " \\tfrac{1}{\\sqrt{2}} & \\tfrac{1}{\\sqrt{2}} & 0 & 0  \\\\\n",
       " \\tfrac{1}{\\sqrt{2}} & -\\tfrac{1}{\\sqrt{2}} & 0 & 0  \\\\\n",
       " \\end{bmatrix}\n",
       "$$"
      ],
      "text/plain": [
       "<IPython.core.display.Latex object>"
      ]
     },
     "execution_count": 99,
     "metadata": {},
     "output_type": "execute_result"
    }
   ],
   "source": [
    "from qiskit.visualization import array_to_latex\n",
    "array_to_latex(unitary, prefix=\"\\\\text{Circuit = }\\n\")"
   ]
  },
  {
   "cell_type": "markdown",
   "id": "b897a823-d044-430c-906a-7b08f5e558eb",
   "metadata": {},
   "source": [
    "If we want to apply a gate to only one qubit at a time (such as in the circuit below), we describe this using kronecker product with the identity matrix, e.g.:\n",
    "\n",
    "$$ X \\otimes I $$"
   ]
  },
  {
   "cell_type": "code",
   "execution_count": 100,
   "id": "b331c56f-b69f-41b0-a27d-b6136215456a",
   "metadata": {},
   "outputs": [
    {
     "data": {
      "image/png": "[encoded data removed]",
      "text/plain": [
       "<Figure size 146.652x144.48 with 1 Axes>"
      ]
     },
     "execution_count": 100,
     "metadata": {},
     "output_type": "execute_result"
    }
   ],
   "source": [
    "qc = QuantumCircuit(2)\n",
    "qc.x(1)\n",
    "qc.draw('mpl')"
   ]
  },
  {
   "cell_type": "code",
   "execution_count": 101,
   "id": "48ddd391-afe2-4740-96aa-131113da5d6b",
   "metadata": {},
   "outputs": [
    {
     "data": {
      "text/latex": [
       "$$\n",
       "\\text{Circuit = } \n",
       "\\begin{bmatrix}\n",
       "0 & 0 & 1 & 0  \\\\\n",
       " 0 & 0 & 0 & 1  \\\\\n",
       " 1 & 0 & 0 & 0  \\\\\n",
       " 0 & 1 & 0 & 0  \\\\\n",
       " \\end{bmatrix}\n",
       "$$"
      ],
      "text/plain": [
       "<IPython.core.display.Latex object>"
      ]
     },
     "execution_count": 101,
     "metadata": {},
     "output_type": "execute_result"
    }
   ],
   "source": [
    "# Simulate the unitary\n",
    "usim = Aer.get_backend('aer_simulator')\n",
    "qc.save_unitary()\n",
    "qobj = assemble(qc)\n",
    "unitary = usim.run(qobj).result().get_unitary()\n",
    "# Display the results:\n",
    "array_to_latex(unitary, prefix=\"\\\\text{Circuit = } \")"
   ]
  },
  {
   "cell_type": "markdown",
   "id": "12fc8ff4-0e23-4ac8-bb90-2cec53c5f152",
   "metadata": {},
   "source": [
    "We can see Qiskit has performed the kronecker product:\n",
    "$$\n",
    "X \\otimes I =\n",
    "\\begin{bmatrix} 0 & I \\\\\n",
    "               I & 0\\\\\n",
    "\\end{bmatrix} = \n",
    "\\begin{bmatrix} 0 & 0 & 1 & 0 \\\\\n",
    "                0 & 0 & 0 & 1 \\\\\n",
    "                1 & 0 & 0 & 0 \\\\\n",
    "                0 & 1 & 0 & 0 \\\\\n",
    "\\end{bmatrix}\n",
    "$$"
   ]
  },
  {
   "cell_type": "markdown",
   "id": "460c0bb2-d07d-4070-9eed-5525312e4293",
   "metadata": {},
   "source": [
    "# EXERCISE TO DO\n",
    "\n",
    "Calculate the single qubit unitary ($U$) created by the sequence of gates: $U = XZH$. Use Qiskit's Aer simulator to check your results."
   ]
  },
  {
   "cell_type": "markdown",
   "id": "dc81a971-b8be-40d9-b190-f3df8556a617",
   "metadata": {},
   "source": [
    "## 3.2 Multi-Qubit Gates \n",
    "\n",
    "Now we know how to represent the state of multiple qubits, we are now ready to learn how qubits interact with each other. An important two-qubit gate is the CNOT-gate.\n",
    "\n",
    "### 3.2.1 The CNOT-Gate \n",
    "\n",
    "This gate is a conditional gate that performs an X-gate on the second qubit (target), if the state of the first qubit (control) is $|1\\rangle$. The gate is drawn on a circuit like this, with `q0` as the control and `q1` as the target:"
   ]
  },
  {
   "cell_type": "code",
   "execution_count": 102,
   "id": "3320aeaa-32ed-4661-a93a-cb971d5feb42",
   "metadata": {},
   "outputs": [
    {
     "data": {
      "image/png": "[encoded data removed]",
      "text/plain": [
       "<Figure size 146.652x144.48 with 1 Axes>"
      ]
     },
     "execution_count": 102,
     "metadata": {},
     "output_type": "execute_result"
    }
   ],
   "source": [
    "qc = QuantumCircuit(2)\n",
    "# Apply CNOT\n",
    "qc.cx(0,1)\n",
    "# See the circuit:\n",
    "qc.draw('mpl')"
   ]
  },
  {
   "cell_type": "markdown",
   "id": "ce26a656-d920-4991-9976-c8c1348f96c6",
   "metadata": {},
   "source": [
    "When our qubits are not in superposition of $|0\\rangle$ or $|1\\rangle$ (behaving as classical bits), this gate is very simple and intuitive to understand. We can use the classical truth table:\n",
    "\n",
    "| Input (t,c) | Output (t,c) |\n",
    "|:-----------:|:------------:|\n",
    "| 00          | 00           |\n",
    "| 01          | 11           |\n",
    "| 10          | 10           |\n",
    "| 11          | 01           |\n",
    "\n",
    "And acting on our 4D-statevector, it has one of the two matrices:\n",
    "\n",
    "$$\n",
    "\\text{CNOT} = \\begin{bmatrix} 1 & 0 & 0 & 0 \\\\\n",
    "                              0 & 0 & 0 & 1 \\\\\n",
    "                              0 & 0 & 1 & 0 \\\\\n",
    "                              0 & 1 & 0 & 0 \\\\\n",
    "              \\end{bmatrix}, \\quad\n",
    "\\text{CNOT} = \\begin{bmatrix} 1 & 0 & 0 & 0 \\\\\n",
    "                              0 & 1 & 0 & 0 \\\\\n",
    "                              0 & 0 & 0 & 1 \\\\\n",
    "                              0 & 0 & 1 & 0 \\\\\n",
    "              \\end{bmatrix}\n",
    "$$\n",
    "\n",
    "depending on which qubit is the control and which is the target. Different books, simulators and papers order their qubits differently. In our case, the left matrix corresponds to the CNOT in the circuit above. This matrix swaps the amplitudes of $|01\\rangle$ and $|11\\rangle$ in our statevector:\n",
    "\n",
    "$$ \n",
    "|a\\rangle = \\begin{bmatrix} a_{00} \\\\ a_{01} \\\\ a_{10} \\\\ a_{11} \\end{bmatrix}, \\quad \\text{CNOT}|a\\rangle = \\begin{bmatrix} a_{00} \\\\ a_{11} \\\\ a_{10} \\\\ a_{01} \\end{bmatrix} \\begin{matrix} \\\\ \\leftarrow \\\\ \\\\ \\leftarrow \\end{matrix}\n",
    "$$\n",
    "\n",
    "We have seen how this acts on classical states, but let’s now see how it acts on a qubit in superposition. We will put one qubit in the state $|+\\rangle$:"
   ]
  },
  {
   "cell_type": "code",
   "execution_count": 103,
   "id": "39380d09-6025-4fca-bbed-c7621bf0f486",
   "metadata": {},
   "outputs": [
    {
     "data": {
      "image/png": "[encoded data removed]",
      "text/plain": [
       "<Figure size 146.652x144.48 with 1 Axes>"
      ]
     },
     "execution_count": 103,
     "metadata": {},
     "output_type": "execute_result"
    }
   ],
   "source": [
    "qc = QuantumCircuit(2)\n",
    "# Apply H-gate to the first:\n",
    "qc.h(0)\n",
    "qc.draw('mpl')"
   ]
  },
  {
   "cell_type": "code",
   "execution_count": 104,
   "id": "3bc364d7-7e7f-444e-aa3e-2adfc10c8b55",
   "metadata": {},
   "outputs": [
    {
     "data": {
      "text/latex": [
       "$$\n",
       "\\text{Statevector = }\n",
       "\\begin{bmatrix}\n",
       "\\tfrac{1}{\\sqrt{2}} & \\tfrac{1}{\\sqrt{2}} & 0 & 0  \\\\\n",
       " \\end{bmatrix}\n",
       "$$"
      ],
      "text/plain": [
       "<IPython.core.display.Latex object>"
      ]
     },
     "execution_count": 104,
     "metadata": {},
     "output_type": "execute_result"
    }
   ],
   "source": [
    "# Let's see the result:\n",
    "svsim = Aer.get_backend('aer_simulator')\n",
    "qc.save_statevector()\n",
    "qobj = assemble(qc)\n",
    "final_state = svsim.run(qobj).result().get_statevector()\n",
    "# Print the statevector neatly:\n",
    "array_to_latex(final_state, prefix=\"\\\\text{Statevector = }\")"
   ]
  },
  {
   "cell_type": "markdown",
   "id": "b6b68f6f-32f2-4bfd-834b-46edb4d7b267",
   "metadata": {},
   "source": [
    "As expected, this produces the state $|0\\rangle \\otimes |{+}\\rangle = |0{+}\\rangle$:\n",
    "\n",
    "$$\n",
    "|0{+}\\rangle = \\tfrac{1}{\\sqrt{2}}(|00\\rangle + |01\\rangle)\n",
    "$$\n",
    "\n",
    "And let’s see what happens when we apply the CNOT gate:"
   ]
  },
  {
   "cell_type": "code",
   "execution_count": 105,
   "id": "951cdd43-3046-4a63-b6f4-bf49590be5d3",
   "metadata": {},
   "outputs": [
    {
     "data": {
      "image/png": "[encoded data removed]",
      "text/plain": [
       "<Figure size 206.852x144.48 with 1 Axes>"
      ]
     },
     "execution_count": 105,
     "metadata": {},
     "output_type": "execute_result"
    }
   ],
   "source": [
    "qc = QuantumCircuit(2)\n",
    "# Apply H-gate to the first:\n",
    "qc.h(0)\n",
    "# Apply a CNOT:\n",
    "qc.cx(0,1)\n",
    "qc.draw('mpl')"
   ]
  },
  {
   "cell_type": "code",
   "execution_count": 106,
   "id": "f29ab527-11c7-4ed6-8989-21ade12f69d7",
   "metadata": {},
   "outputs": [
    {
     "data": {
      "text/latex": [
       "$$\n",
       "\\text{Statevector = }\n",
       "\\begin{bmatrix}\n",
       "\\tfrac{1}{\\sqrt{2}} & 0 & 0 & \\tfrac{1}{\\sqrt{2}}  \\\\\n",
       " \\end{bmatrix}\n",
       "$$"
      ],
      "text/plain": [
       "<IPython.core.display.Latex object>"
      ]
     },
     "execution_count": 106,
     "metadata": {},
     "output_type": "execute_result"
    }
   ],
   "source": [
    "# Let's get the result:\n",
    "qc.save_statevector()\n",
    "qobj = assemble(qc)\n",
    "result = svsim.run(qobj).result()\n",
    "# Print the statevector neatly:\n",
    "final_state = result.get_statevector()\n",
    "array_to_latex(final_state, prefix=\"\\\\text{Statevector = }\")"
   ]
  },
  {
   "cell_type": "markdown",
   "id": "21665c8e-85ee-47eb-802a-81aa7e7a5719",
   "metadata": {},
   "source": [
    "### 3.2 Entangled States <a id=\"entangled\"></a>\n",
    "\n",
    "We can observe that we have the state:\n",
    "\n",
    "$$\n",
    "\\text{CNOT}|0{+}\\rangle = \\tfrac{1}{\\sqrt{2}}(|00\\rangle + |11\\rangle)\n",
    "$$ \n",
    "This state, which is known as a _Bell_ state, is very interesting as being _entangled._ \n",
    "\n",
    "We can see that this state has 50% probability of being measured in the state $|00\\rangle$, and 50% chance of being measured in the state $|11\\rangle$. Most interestingly, it has a **0%** chance of being measured in the states $|01\\rangle$ or $|10\\rangle$. We can see this in Qiskit:"
   ]
  },
  {
   "cell_type": "code",
   "execution_count": 107,
   "id": "812d9ec0-8164-491f-a67b-448b6bde33a8",
   "metadata": {},
   "outputs": [
    {
     "data": {
      "image/png": "[encoded data removed]",
      "text/plain": [
       "<Figure size 504x360 with 1 Axes>"
      ]
     },
     "execution_count": 107,
     "metadata": {},
     "output_type": "execute_result"
    }
   ],
   "source": [
    "plot_histogram(result.get_counts())"
   ]
  },
  {
   "cell_type": "markdown",
   "id": "330dbb8c-ac8b-41f0-a6ca-65e5d86027a4",
   "metadata": {},
   "source": [
    "This combined state cannot be written as two separate qubit states, which has interesting implications. Although our qubits are in superposition, measuring one will tell us the state of the other and collapse its superposition. For example, if we measured the top qubit and got the state $|1\\rangle$, the collective state of our qubits changes like so:\n",
    "\n",
    "$$\n",
    "\\tfrac{1}{\\sqrt{2}}(|00\\rangle + |11\\rangle) \\quad \\xrightarrow[]{\\text{measure}} \\quad |11\\rangle\n",
    "$$\n",
    "\n",
    "Even if we separated these qubits light-years away, measuring one qubit collapses the superposition and appears to have an immediate effect on the other. Please refer to QUANTIS lecture for more details.\n",
    "\n",
    "It’s important to note that the measurement result is random, and the measurement statistics of one qubit are **not** affected by any operation on the other qubit. Because of this, there is **no way** to use shared quantum states to communicate (no-communication theorem)"
   ]
  },
  {
   "cell_type": "markdown",
   "id": "8a161159-da87-4001-9880-038e94ac31c6",
   "metadata": {},
   "source": [
    "### 3.2.1 Visualizing Entangled States\n",
    "\n",
    "We have seen that this state cannot be written as two separate qubit states, this also means we lose information when we try to plot our state on separate Bloch spheres:"
   ]
  },
  {
   "cell_type": "code",
   "execution_count": 108,
   "id": "404d613b-57bd-4c7e-8074-5682d4baf360",
   "metadata": {},
   "outputs": [
    {
     "ename": "AttributeError",
     "evalue": "'Arrow3D' object has no attribute '_path2d'",
     "output_type": "error",
     "traceback": [
      "\u001b[1;31m---------------------------------------------------------------------------\u001b[0m",
      "\u001b[1;31mAttributeError\u001b[0m                            Traceback (most recent call last)",
      "\u001b[1;32mC:\\ProgramData\\Anaconda3\\lib\\site-packages\\IPython\\core\\formatters.py\u001b[0m in \u001b[0;36m__call__\u001b[1;34m(self, obj)\u001b[0m\n\u001b[0;32m    339\u001b[0m                 \u001b[1;32mpass\u001b[0m\u001b[1;33m\u001b[0m\u001b[1;33m\u001b[0m\u001b[0m\n\u001b[0;32m    340\u001b[0m             \u001b[1;32melse\u001b[0m\u001b[1;33m:\u001b[0m\u001b[1;33m\u001b[0m\u001b[1;33m\u001b[0m\u001b[0m\n\u001b[1;32m--> 341\u001b[1;33m                 \u001b[1;32mreturn\u001b[0m \u001b[0mprinter\u001b[0m\u001b[1;33m(\u001b[0m\u001b[0mobj\u001b[0m\u001b[1;33m)\u001b[0m\u001b[1;33m\u001b[0m\u001b[1;33m\u001b[0m\u001b[0m\n\u001b[0m\u001b[0;32m    342\u001b[0m             \u001b[1;31m# Finally look for special method names\u001b[0m\u001b[1;33m\u001b[0m\u001b[1;33m\u001b[0m\u001b[0m\n\u001b[0;32m    343\u001b[0m             \u001b[0mmethod\u001b[0m \u001b[1;33m=\u001b[0m \u001b[0mget_real_method\u001b[0m\u001b[1;33m(\u001b[0m\u001b[0mobj\u001b[0m\u001b[1;33m,\u001b[0m \u001b[0mself\u001b[0m\u001b[1;33m.\u001b[0m\u001b[0mprint_method\u001b[0m\u001b[1;33m)\u001b[0m\u001b[1;33m\u001b[0m\u001b[1;33m\u001b[0m\u001b[0m\n",
      "\u001b[1;32mC:\\ProgramData\\Anaconda3\\lib\\site-packages\\IPython\\core\\pylabtools.py\u001b[0m in \u001b[0;36mprint_figure\u001b[1;34m(fig, fmt, bbox_inches, base64, **kwargs)\u001b[0m\n\u001b[0;32m    149\u001b[0m         \u001b[0mFigureCanvasBase\u001b[0m\u001b[1;33m(\u001b[0m\u001b[0mfig\u001b[0m\u001b[1;33m)\u001b[0m\u001b[1;33m\u001b[0m\u001b[1;33m\u001b[0m\u001b[0m\n\u001b[0;32m    150\u001b[0m \u001b[1;33m\u001b[0m\u001b[0m\n\u001b[1;32m--> 151\u001b[1;33m     \u001b[0mfig\u001b[0m\u001b[1;33m.\u001b[0m\u001b[0mcanvas\u001b[0m\u001b[1;33m.\u001b[0m\u001b[0mprint_figure\u001b[0m\u001b[1;33m(\u001b[0m\u001b[0mbytes_io\u001b[0m\u001b[1;33m,\u001b[0m \u001b[1;33m**\u001b[0m\u001b[0mkw\u001b[0m\u001b[1;33m)\u001b[0m\u001b[1;33m\u001b[0m\u001b[1;33m\u001b[0m\u001b[0m\n\u001b[0m\u001b[0;32m    152\u001b[0m     \u001b[0mdata\u001b[0m \u001b[1;33m=\u001b[0m \u001b[0mbytes_io\u001b[0m\u001b[1;33m.\u001b[0m\u001b[0mgetvalue\u001b[0m\u001b[1;33m(\u001b[0m\u001b[1;33m)\u001b[0m\u001b[1;33m\u001b[0m\u001b[1;33m\u001b[0m\u001b[0m\n\u001b[0;32m    153\u001b[0m     \u001b[1;32mif\u001b[0m \u001b[0mfmt\u001b[0m \u001b[1;33m==\u001b[0m \u001b[1;34m'svg'\u001b[0m\u001b[1;33m:\u001b[0m\u001b[1;33m\u001b[0m\u001b[1;33m\u001b[0m\u001b[0m\n",
      "\u001b[1;32mC:\\ProgramData\\Anaconda3\\lib\\site-packages\\matplotlib\\backend_bases.py\u001b[0m in \u001b[0;36mprint_figure\u001b[1;34m(self, filename, dpi, facecolor, edgecolor, orientation, format, bbox_inches, pad_inches, bbox_extra_artists, backend, **kwargs)\u001b[0m\n\u001b[0;32m   2232\u001b[0m             \u001b[1;32mif\u001b[0m \u001b[0mbbox_inches\u001b[0m\u001b[1;33m:\u001b[0m\u001b[1;33m\u001b[0m\u001b[1;33m\u001b[0m\u001b[0m\n\u001b[0;32m   2233\u001b[0m                 \u001b[1;32mif\u001b[0m \u001b[0mbbox_inches\u001b[0m \u001b[1;33m==\u001b[0m \u001b[1;34m\"tight\"\u001b[0m\u001b[1;33m:\u001b[0m\u001b[1;33m\u001b[0m\u001b[1;33m\u001b[0m\u001b[0m\n\u001b[1;32m-> 2234\u001b[1;33m                     bbox_inches = self.figure.get_tightbbox(\n\u001b[0m\u001b[0;32m   2235\u001b[0m                         renderer, bbox_extra_artists=bbox_extra_artists)\n\u001b[0;32m   2236\u001b[0m                     \u001b[1;32mif\u001b[0m \u001b[0mpad_inches\u001b[0m \u001b[1;32mis\u001b[0m \u001b[1;32mNone\u001b[0m\u001b[1;33m:\u001b[0m\u001b[1;33m\u001b[0m\u001b[1;33m\u001b[0m\u001b[0m\n",
      "\u001b[1;32mC:\\ProgramData\\Anaconda3\\lib\\site-packages\\matplotlib\\figure.py\u001b[0m in \u001b[0;36mget_tightbbox\u001b[1;34m(self, renderer, bbox_extra_artists)\u001b[0m\n\u001b[0;32m   1637\u001b[0m \u001b[1;33m\u001b[0m\u001b[0m\n\u001b[0;32m   1638\u001b[0m         \u001b[1;32mfor\u001b[0m \u001b[0ma\u001b[0m \u001b[1;32min\u001b[0m \u001b[0martists\u001b[0m\u001b[1;33m:\u001b[0m\u001b[1;33m\u001b[0m\u001b[1;33m\u001b[0m\u001b[0m\n\u001b[1;32m-> 1639\u001b[1;33m             \u001b[0mbbox\u001b[0m \u001b[1;33m=\u001b[0m \u001b[0ma\u001b[0m\u001b[1;33m.\u001b[0m\u001b[0mget_tightbbox\u001b[0m\u001b[1;33m(\u001b[0m\u001b[0mrenderer\u001b[0m\u001b[1;33m)\u001b[0m\u001b[1;33m\u001b[0m\u001b[1;33m\u001b[0m\u001b[0m\n\u001b[0m\u001b[0;32m   1640\u001b[0m             \u001b[1;32mif\u001b[0m \u001b[0mbbox\u001b[0m \u001b[1;32mis\u001b[0m \u001b[1;32mnot\u001b[0m \u001b[1;32mNone\u001b[0m \u001b[1;32mand\u001b[0m \u001b[1;33m(\u001b[0m\u001b[0mbbox\u001b[0m\u001b[1;33m.\u001b[0m\u001b[0mwidth\u001b[0m \u001b[1;33m!=\u001b[0m \u001b[1;36m0\u001b[0m \u001b[1;32mor\u001b[0m \u001b[0mbbox\u001b[0m\u001b[1;33m.\u001b[0m\u001b[0mheight\u001b[0m \u001b[1;33m!=\u001b[0m \u001b[1;36m0\u001b[0m\u001b[1;33m)\u001b[0m\u001b[1;33m:\u001b[0m\u001b[1;33m\u001b[0m\u001b[1;33m\u001b[0m\u001b[0m\n\u001b[0;32m   1641\u001b[0m                 \u001b[0mbb\u001b[0m\u001b[1;33m.\u001b[0m\u001b[0mappend\u001b[0m\u001b[1;33m(\u001b[0m\u001b[0mbbox\u001b[0m\u001b[1;33m)\u001b[0m\u001b[1;33m\u001b[0m\u001b[1;33m\u001b[0m\u001b[0m\n",
      "\u001b[1;32mC:\\ProgramData\\Anaconda3\\lib\\site-packages\\matplotlib\\artist.py\u001b[0m in \u001b[0;36mget_tightbbox\u001b[1;34m(self, renderer)\u001b[0m\n\u001b[0;32m    304\u001b[0m             \u001b[0mThe\u001b[0m \u001b[0menclosing\u001b[0m \u001b[0mbounding\u001b[0m \u001b[0mbox\u001b[0m \u001b[1;33m(\u001b[0m\u001b[1;32min\u001b[0m \u001b[0mfigure\u001b[0m \u001b[0mpixel\u001b[0m \u001b[0mcoordinates\u001b[0m\u001b[1;33m)\u001b[0m\u001b[1;33m.\u001b[0m\u001b[1;33m\u001b[0m\u001b[1;33m\u001b[0m\u001b[0m\n\u001b[0;32m    305\u001b[0m         \"\"\"\n\u001b[1;32m--> 306\u001b[1;33m         \u001b[0mbbox\u001b[0m \u001b[1;33m=\u001b[0m \u001b[0mself\u001b[0m\u001b[1;33m.\u001b[0m\u001b[0mget_window_extent\u001b[0m\u001b[1;33m(\u001b[0m\u001b[0mrenderer\u001b[0m\u001b[1;33m)\u001b[0m\u001b[1;33m\u001b[0m\u001b[1;33m\u001b[0m\u001b[0m\n\u001b[0m\u001b[0;32m    307\u001b[0m         \u001b[1;32mif\u001b[0m \u001b[0mself\u001b[0m\u001b[1;33m.\u001b[0m\u001b[0mget_clip_on\u001b[0m\u001b[1;33m(\u001b[0m\u001b[1;33m)\u001b[0m\u001b[1;33m:\u001b[0m\u001b[1;33m\u001b[0m\u001b[1;33m\u001b[0m\u001b[0m\n\u001b[0;32m    308\u001b[0m             \u001b[0mclip_box\u001b[0m \u001b[1;33m=\u001b[0m \u001b[0mself\u001b[0m\u001b[1;33m.\u001b[0m\u001b[0mget_clip_box\u001b[0m\u001b[1;33m(\u001b[0m\u001b[1;33m)\u001b[0m\u001b[1;33m\u001b[0m\u001b[1;33m\u001b[0m\u001b[0m\n",
      "\u001b[1;32mC:\\ProgramData\\Anaconda3\\lib\\site-packages\\matplotlib\\patches.py\u001b[0m in \u001b[0;36mget_window_extent\u001b[1;34m(self, renderer)\u001b[0m\n\u001b[0;32m    619\u001b[0m \u001b[1;33m\u001b[0m\u001b[0m\n\u001b[0;32m    620\u001b[0m     \u001b[1;32mdef\u001b[0m \u001b[0mget_window_extent\u001b[0m\u001b[1;33m(\u001b[0m\u001b[0mself\u001b[0m\u001b[1;33m,\u001b[0m \u001b[0mrenderer\u001b[0m\u001b[1;33m=\u001b[0m\u001b[1;32mNone\u001b[0m\u001b[1;33m)\u001b[0m\u001b[1;33m:\u001b[0m\u001b[1;33m\u001b[0m\u001b[1;33m\u001b[0m\u001b[0m\n\u001b[1;32m--> 621\u001b[1;33m         \u001b[1;32mreturn\u001b[0m \u001b[0mself\u001b[0m\u001b[1;33m.\u001b[0m\u001b[0mget_path\u001b[0m\u001b[1;33m(\u001b[0m\u001b[1;33m)\u001b[0m\u001b[1;33m.\u001b[0m\u001b[0mget_extents\u001b[0m\u001b[1;33m(\u001b[0m\u001b[0mself\u001b[0m\u001b[1;33m.\u001b[0m\u001b[0mget_transform\u001b[0m\u001b[1;33m(\u001b[0m\u001b[1;33m)\u001b[0m\u001b[1;33m)\u001b[0m\u001b[1;33m\u001b[0m\u001b[1;33m\u001b[0m\u001b[0m\n\u001b[0m\u001b[0;32m    622\u001b[0m \u001b[1;33m\u001b[0m\u001b[0m\n\u001b[0;32m    623\u001b[0m     \u001b[1;32mdef\u001b[0m \u001b[0m_convert_xy_units\u001b[0m\u001b[1;33m(\u001b[0m\u001b[0mself\u001b[0m\u001b[1;33m,\u001b[0m \u001b[0mxy\u001b[0m\u001b[1;33m)\u001b[0m\u001b[1;33m:\u001b[0m\u001b[1;33m\u001b[0m\u001b[1;33m\u001b[0m\u001b[0m\n",
      "\u001b[1;32mC:\\ProgramData\\Anaconda3\\lib\\site-packages\\mpl_toolkits\\mplot3d\\art3d.py\u001b[0m in \u001b[0;36mget_path\u001b[1;34m(self)\u001b[0m\n\u001b[0;32m    345\u001b[0m \u001b[1;33m\u001b[0m\u001b[0m\n\u001b[0;32m    346\u001b[0m     \u001b[1;32mdef\u001b[0m \u001b[0mget_path\u001b[0m\u001b[1;33m(\u001b[0m\u001b[0mself\u001b[0m\u001b[1;33m)\u001b[0m\u001b[1;33m:\u001b[0m\u001b[1;33m\u001b[0m\u001b[1;33m\u001b[0m\u001b[0m\n\u001b[1;32m--> 347\u001b[1;33m         \u001b[1;32mreturn\u001b[0m \u001b[0mself\u001b[0m\u001b[1;33m.\u001b[0m\u001b[0m_path2d\u001b[0m\u001b[1;33m\u001b[0m\u001b[1;33m\u001b[0m\u001b[0m\n\u001b[0m\u001b[0;32m    348\u001b[0m \u001b[1;33m\u001b[0m\u001b[0m\n\u001b[0;32m    349\u001b[0m     \u001b[1;33m@\u001b[0m\u001b[0m_api\u001b[0m\u001b[1;33m.\u001b[0m\u001b[0mdelete_parameter\u001b[0m\u001b[1;33m(\u001b[0m\u001b[1;34m'3.4'\u001b[0m\u001b[1;33m,\u001b[0m \u001b[1;34m'renderer'\u001b[0m\u001b[1;33m)\u001b[0m\u001b[1;33m\u001b[0m\u001b[1;33m\u001b[0m\u001b[0m\n",
      "\u001b[1;31mAttributeError\u001b[0m: 'Arrow3D' object has no attribute '_path2d'"
     ]
    },
    {
     "data": {
      "text/plain": [
       "<Figure size 576x288 with 2 Axes>"
      ]
     },
     "execution_count": 108,
     "metadata": {},
     "output_type": "execute_result"
    }
   ],
   "source": [
    "plot_bloch_multivector(final_state)"
   ]
  },
  {
   "cell_type": "markdown",
   "id": "a7a01859-4e3a-4fad-8126-bbf1ec9f11ee",
   "metadata": {},
   "source": [
    "Given how we defined the Bloch sphere in the earlier chapters, it may not be clear how Qiskit even calculates the Bloch vectors with entangled qubits like this. In the single-qubit case, the position of the Bloch vector along an axis nicely corresponds to the expectation value of measuring in that basis. If we take this as _the_ rule of plotting Bloch vectors, we arrive at this conclusion above. This shows us there is _no_ single-qubit measurement basis for which a specific measurement is guaranteed. This contrasts with our single qubit states, in which we could always pick a single-qubit basis. Looking at the individual qubits in this way, we miss the important effect of correlation between the qubits. We cannot distinguish between different entangled states. For example, the two states:\n",
    "\n",
    "$$\\tfrac{1}{\\sqrt{2}}(|01\\rangle + |10\\rangle) \\quad \\text{and} \\quad \\tfrac{1}{\\sqrt{2}}(|00\\rangle + |11\\rangle)$$\n",
    "\n",
    "will both look the same on these separate Bloch spheres, despite being very different states with different measurement outcomes.\n",
    "\n",
    "How else could we visualize this statevector? This statevector is simply a collection of four amplitudes (complex numbers), and there are endless ways we can map this to an image. One such visualization is the _Q-sphere,_ here each amplitude is represented by a blob on the surface of a sphere. The size of the blob is proportional to the magnitude of the amplitude, and the colour is proportional to the phase of the amplitude. The amplitudes for $|00\\rangle$ and $|11\\rangle$ are equal, and all other amplitudes are 0:"
   ]
  },
  {
   "cell_type": "code",
   "execution_count": 109,
   "id": "842e91c3-05aa-418e-89a0-9bd72c02da48",
   "metadata": {},
   "outputs": [
    {
     "ename": "AttributeError",
     "evalue": "'Arrow3D' object has no attribute '_path2d'",
     "output_type": "error",
     "traceback": [
      "\u001b[1;31m---------------------------------------------------------------------------\u001b[0m",
      "\u001b[1;31mAttributeError\u001b[0m                            Traceback (most recent call last)",
      "\u001b[1;32mC:\\ProgramData\\Anaconda3\\lib\\site-packages\\IPython\\core\\formatters.py\u001b[0m in \u001b[0;36m__call__\u001b[1;34m(self, obj)\u001b[0m\n\u001b[0;32m    339\u001b[0m                 \u001b[1;32mpass\u001b[0m\u001b[1;33m\u001b[0m\u001b[1;33m\u001b[0m\u001b[0m\n\u001b[0;32m    340\u001b[0m             \u001b[1;32melse\u001b[0m\u001b[1;33m:\u001b[0m\u001b[1;33m\u001b[0m\u001b[1;33m\u001b[0m\u001b[0m\n\u001b[1;32m--> 341\u001b[1;33m                 \u001b[1;32mreturn\u001b[0m \u001b[0mprinter\u001b[0m\u001b[1;33m(\u001b[0m\u001b[0mobj\u001b[0m\u001b[1;33m)\u001b[0m\u001b[1;33m\u001b[0m\u001b[1;33m\u001b[0m\u001b[0m\n\u001b[0m\u001b[0;32m    342\u001b[0m             \u001b[1;31m# Finally look for special method names\u001b[0m\u001b[1;33m\u001b[0m\u001b[1;33m\u001b[0m\u001b[0m\n\u001b[0;32m    343\u001b[0m             \u001b[0mmethod\u001b[0m \u001b[1;33m=\u001b[0m \u001b[0mget_real_method\u001b[0m\u001b[1;33m(\u001b[0m\u001b[0mobj\u001b[0m\u001b[1;33m,\u001b[0m \u001b[0mself\u001b[0m\u001b[1;33m.\u001b[0m\u001b[0mprint_method\u001b[0m\u001b[1;33m)\u001b[0m\u001b[1;33m\u001b[0m\u001b[1;33m\u001b[0m\u001b[0m\n",
      "\u001b[1;32mC:\\ProgramData\\Anaconda3\\lib\\site-packages\\IPython\\core\\pylabtools.py\u001b[0m in \u001b[0;36mprint_figure\u001b[1;34m(fig, fmt, bbox_inches, base64, **kwargs)\u001b[0m\n\u001b[0;32m    149\u001b[0m         \u001b[0mFigureCanvasBase\u001b[0m\u001b[1;33m(\u001b[0m\u001b[0mfig\u001b[0m\u001b[1;33m)\u001b[0m\u001b[1;33m\u001b[0m\u001b[1;33m\u001b[0m\u001b[0m\n\u001b[0;32m    150\u001b[0m \u001b[1;33m\u001b[0m\u001b[0m\n\u001b[1;32m--> 151\u001b[1;33m     \u001b[0mfig\u001b[0m\u001b[1;33m.\u001b[0m\u001b[0mcanvas\u001b[0m\u001b[1;33m.\u001b[0m\u001b[0mprint_figure\u001b[0m\u001b[1;33m(\u001b[0m\u001b[0mbytes_io\u001b[0m\u001b[1;33m,\u001b[0m \u001b[1;33m**\u001b[0m\u001b[0mkw\u001b[0m\u001b[1;33m)\u001b[0m\u001b[1;33m\u001b[0m\u001b[1;33m\u001b[0m\u001b[0m\n\u001b[0m\u001b[0;32m    152\u001b[0m     \u001b[0mdata\u001b[0m \u001b[1;33m=\u001b[0m \u001b[0mbytes_io\u001b[0m\u001b[1;33m.\u001b[0m\u001b[0mgetvalue\u001b[0m\u001b[1;33m(\u001b[0m\u001b[1;33m)\u001b[0m\u001b[1;33m\u001b[0m\u001b[1;33m\u001b[0m\u001b[0m\n\u001b[0;32m    153\u001b[0m     \u001b[1;32mif\u001b[0m \u001b[0mfmt\u001b[0m \u001b[1;33m==\u001b[0m \u001b[1;34m'svg'\u001b[0m\u001b[1;33m:\u001b[0m\u001b[1;33m\u001b[0m\u001b[1;33m\u001b[0m\u001b[0m\n",
      "\u001b[1;32mC:\\ProgramData\\Anaconda3\\lib\\site-packages\\matplotlib\\backend_bases.py\u001b[0m in \u001b[0;36mprint_figure\u001b[1;34m(self, filename, dpi, facecolor, edgecolor, orientation, format, bbox_inches, pad_inches, bbox_extra_artists, backend, **kwargs)\u001b[0m\n\u001b[0;32m   2232\u001b[0m             \u001b[1;32mif\u001b[0m \u001b[0mbbox_inches\u001b[0m\u001b[1;33m:\u001b[0m\u001b[1;33m\u001b[0m\u001b[1;33m\u001b[0m\u001b[0m\n\u001b[0;32m   2233\u001b[0m                 \u001b[1;32mif\u001b[0m \u001b[0mbbox_inches\u001b[0m \u001b[1;33m==\u001b[0m \u001b[1;34m\"tight\"\u001b[0m\u001b[1;33m:\u001b[0m\u001b[1;33m\u001b[0m\u001b[1;33m\u001b[0m\u001b[0m\n\u001b[1;32m-> 2234\u001b[1;33m                     bbox_inches = self.figure.get_tightbbox(\n\u001b[0m\u001b[0;32m   2235\u001b[0m                         renderer, bbox_extra_artists=bbox_extra_artists)\n\u001b[0;32m   2236\u001b[0m                     \u001b[1;32mif\u001b[0m \u001b[0mpad_inches\u001b[0m \u001b[1;32mis\u001b[0m \u001b[1;32mNone\u001b[0m\u001b[1;33m:\u001b[0m\u001b[1;33m\u001b[0m\u001b[1;33m\u001b[0m\u001b[0m\n",
      "\u001b[1;32mC:\\ProgramData\\Anaconda3\\lib\\site-packages\\matplotlib\\figure.py\u001b[0m in \u001b[0;36mget_tightbbox\u001b[1;34m(self, renderer, bbox_extra_artists)\u001b[0m\n\u001b[0;32m   1637\u001b[0m \u001b[1;33m\u001b[0m\u001b[0m\n\u001b[0;32m   1638\u001b[0m         \u001b[1;32mfor\u001b[0m \u001b[0ma\u001b[0m \u001b[1;32min\u001b[0m \u001b[0martists\u001b[0m\u001b[1;33m:\u001b[0m\u001b[1;33m\u001b[0m\u001b[1;33m\u001b[0m\u001b[0m\n\u001b[1;32m-> 1639\u001b[1;33m             \u001b[0mbbox\u001b[0m \u001b[1;33m=\u001b[0m \u001b[0ma\u001b[0m\u001b[1;33m.\u001b[0m\u001b[0mget_tightbbox\u001b[0m\u001b[1;33m(\u001b[0m\u001b[0mrenderer\u001b[0m\u001b[1;33m)\u001b[0m\u001b[1;33m\u001b[0m\u001b[1;33m\u001b[0m\u001b[0m\n\u001b[0m\u001b[0;32m   1640\u001b[0m             \u001b[1;32mif\u001b[0m \u001b[0mbbox\u001b[0m \u001b[1;32mis\u001b[0m \u001b[1;32mnot\u001b[0m \u001b[1;32mNone\u001b[0m \u001b[1;32mand\u001b[0m \u001b[1;33m(\u001b[0m\u001b[0mbbox\u001b[0m\u001b[1;33m.\u001b[0m\u001b[0mwidth\u001b[0m \u001b[1;33m!=\u001b[0m \u001b[1;36m0\u001b[0m \u001b[1;32mor\u001b[0m \u001b[0mbbox\u001b[0m\u001b[1;33m.\u001b[0m\u001b[0mheight\u001b[0m \u001b[1;33m!=\u001b[0m \u001b[1;36m0\u001b[0m\u001b[1;33m)\u001b[0m\u001b[1;33m:\u001b[0m\u001b[1;33m\u001b[0m\u001b[1;33m\u001b[0m\u001b[0m\n\u001b[0;32m   1641\u001b[0m                 \u001b[0mbb\u001b[0m\u001b[1;33m.\u001b[0m\u001b[0mappend\u001b[0m\u001b[1;33m(\u001b[0m\u001b[0mbbox\u001b[0m\u001b[1;33m)\u001b[0m\u001b[1;33m\u001b[0m\u001b[1;33m\u001b[0m\u001b[0m\n",
      "\u001b[1;32mC:\\ProgramData\\Anaconda3\\lib\\site-packages\\matplotlib\\artist.py\u001b[0m in \u001b[0;36mget_tightbbox\u001b[1;34m(self, renderer)\u001b[0m\n\u001b[0;32m    304\u001b[0m             \u001b[0mThe\u001b[0m \u001b[0menclosing\u001b[0m \u001b[0mbounding\u001b[0m \u001b[0mbox\u001b[0m \u001b[1;33m(\u001b[0m\u001b[1;32min\u001b[0m \u001b[0mfigure\u001b[0m \u001b[0mpixel\u001b[0m \u001b[0mcoordinates\u001b[0m\u001b[1;33m)\u001b[0m\u001b[1;33m.\u001b[0m\u001b[1;33m\u001b[0m\u001b[1;33m\u001b[0m\u001b[0m\n\u001b[0;32m    305\u001b[0m         \"\"\"\n\u001b[1;32m--> 306\u001b[1;33m         \u001b[0mbbox\u001b[0m \u001b[1;33m=\u001b[0m \u001b[0mself\u001b[0m\u001b[1;33m.\u001b[0m\u001b[0mget_window_extent\u001b[0m\u001b[1;33m(\u001b[0m\u001b[0mrenderer\u001b[0m\u001b[1;33m)\u001b[0m\u001b[1;33m\u001b[0m\u001b[1;33m\u001b[0m\u001b[0m\n\u001b[0m\u001b[0;32m    307\u001b[0m         \u001b[1;32mif\u001b[0m \u001b[0mself\u001b[0m\u001b[1;33m.\u001b[0m\u001b[0mget_clip_on\u001b[0m\u001b[1;33m(\u001b[0m\u001b[1;33m)\u001b[0m\u001b[1;33m:\u001b[0m\u001b[1;33m\u001b[0m\u001b[1;33m\u001b[0m\u001b[0m\n\u001b[0;32m    308\u001b[0m             \u001b[0mclip_box\u001b[0m \u001b[1;33m=\u001b[0m \u001b[0mself\u001b[0m\u001b[1;33m.\u001b[0m\u001b[0mget_clip_box\u001b[0m\u001b[1;33m(\u001b[0m\u001b[1;33m)\u001b[0m\u001b[1;33m\u001b[0m\u001b[1;33m\u001b[0m\u001b[0m\n",
      "\u001b[1;32mC:\\ProgramData\\Anaconda3\\lib\\site-packages\\matplotlib\\patches.py\u001b[0m in \u001b[0;36mget_window_extent\u001b[1;34m(self, renderer)\u001b[0m\n\u001b[0;32m    619\u001b[0m \u001b[1;33m\u001b[0m\u001b[0m\n\u001b[0;32m    620\u001b[0m     \u001b[1;32mdef\u001b[0m \u001b[0mget_window_extent\u001b[0m\u001b[1;33m(\u001b[0m\u001b[0mself\u001b[0m\u001b[1;33m,\u001b[0m \u001b[0mrenderer\u001b[0m\u001b[1;33m=\u001b[0m\u001b[1;32mNone\u001b[0m\u001b[1;33m)\u001b[0m\u001b[1;33m:\u001b[0m\u001b[1;33m\u001b[0m\u001b[1;33m\u001b[0m\u001b[0m\n\u001b[1;32m--> 621\u001b[1;33m         \u001b[1;32mreturn\u001b[0m \u001b[0mself\u001b[0m\u001b[1;33m.\u001b[0m\u001b[0mget_path\u001b[0m\u001b[1;33m(\u001b[0m\u001b[1;33m)\u001b[0m\u001b[1;33m.\u001b[0m\u001b[0mget_extents\u001b[0m\u001b[1;33m(\u001b[0m\u001b[0mself\u001b[0m\u001b[1;33m.\u001b[0m\u001b[0mget_transform\u001b[0m\u001b[1;33m(\u001b[0m\u001b[1;33m)\u001b[0m\u001b[1;33m)\u001b[0m\u001b[1;33m\u001b[0m\u001b[1;33m\u001b[0m\u001b[0m\n\u001b[0m\u001b[0;32m    622\u001b[0m \u001b[1;33m\u001b[0m\u001b[0m\n\u001b[0;32m    623\u001b[0m     \u001b[1;32mdef\u001b[0m \u001b[0m_convert_xy_units\u001b[0m\u001b[1;33m(\u001b[0m\u001b[0mself\u001b[0m\u001b[1;33m,\u001b[0m \u001b[0mxy\u001b[0m\u001b[1;33m)\u001b[0m\u001b[1;33m:\u001b[0m\u001b[1;33m\u001b[0m\u001b[1;33m\u001b[0m\u001b[0m\n",
      "\u001b[1;32mC:\\ProgramData\\Anaconda3\\lib\\site-packages\\mpl_toolkits\\mplot3d\\art3d.py\u001b[0m in \u001b[0;36mget_path\u001b[1;34m(self)\u001b[0m\n\u001b[0;32m    345\u001b[0m \u001b[1;33m\u001b[0m\u001b[0m\n\u001b[0;32m    346\u001b[0m     \u001b[1;32mdef\u001b[0m \u001b[0mget_path\u001b[0m\u001b[1;33m(\u001b[0m\u001b[0mself\u001b[0m\u001b[1;33m)\u001b[0m\u001b[1;33m:\u001b[0m\u001b[1;33m\u001b[0m\u001b[1;33m\u001b[0m\u001b[0m\n\u001b[1;32m--> 347\u001b[1;33m         \u001b[1;32mreturn\u001b[0m \u001b[0mself\u001b[0m\u001b[1;33m.\u001b[0m\u001b[0m_path2d\u001b[0m\u001b[1;33m\u001b[0m\u001b[1;33m\u001b[0m\u001b[0m\n\u001b[0m\u001b[0;32m    348\u001b[0m \u001b[1;33m\u001b[0m\u001b[0m\n\u001b[0;32m    349\u001b[0m     \u001b[1;33m@\u001b[0m\u001b[0m_api\u001b[0m\u001b[1;33m.\u001b[0m\u001b[0mdelete_parameter\u001b[0m\u001b[1;33m(\u001b[0m\u001b[1;34m'3.4'\u001b[0m\u001b[1;33m,\u001b[0m \u001b[1;34m'renderer'\u001b[0m\u001b[1;33m)\u001b[0m\u001b[1;33m\u001b[0m\u001b[1;33m\u001b[0m\u001b[0m\n",
      "\u001b[1;31mAttributeError\u001b[0m: 'Arrow3D' object has no attribute '_path2d'"
     ]
    },
    {
     "data": {
      "text/plain": [
       "<Figure size 504x504 with 2 Axes>"
      ]
     },
     "execution_count": 109,
     "metadata": {},
     "output_type": "execute_result"
    }
   ],
   "source": [
    "from qiskit.visualization import plot_state_qsphere\n",
    "plot_state_qsphere(final_state)"
   ]
  },
  {
   "cell_type": "markdown",
   "id": "79ebeb9b-0ca2-4b14-8685-82f22cf0c45b",
   "metadata": {},
   "source": [
    "Here we can clearly see the correlation between the qubits. The Q-sphere's shape has no significance, it is simply a nice way of arranging our blobs; the number of `0`s in the state is proportional to the states position on the Z-axis, so here we can see the amplitude of $|00\\rangle$ is at the top pole of the sphere, and the amplitude of $|11\\rangle$ is at the bottom pole of the sphere."
   ]
  },
  {
   "cell_type": "markdown",
   "id": "be649b80-34fb-4e94-b83a-5f38f02b2909",
   "metadata": {},
   "source": [
    "# 4 Further Examples\n",
    "\n",
    "We will provide below some examples on how to create, simulate, and visualize quantum circuits, as well as entangled bits."
   ]
  },
  {
   "cell_type": "markdown",
   "id": "879ec866-bd10-4efd-b2b9-eaea98009841",
   "metadata": {},
   "source": [
    "## 4.1 Creating Superpositions of Qubits\n",
    "We will now create a superposition of three Qubits:"
   ]
  },
  {
   "cell_type": "code",
   "execution_count": 110,
   "id": "e9b5ce59-22d9-4ffa-afc9-1f1deec2109d",
   "metadata": {},
   "outputs": [
    {
     "data": {
      "image/png": "[encoded data removed]",
      "text/plain": [
       "<Figure size 327.397x264.88 with 1 Axes>"
      ]
     },
     "execution_count": 110,
     "metadata": {},
     "output_type": "execute_result"
    }
   ],
   "source": [
    "circ = QuantumCircuit(3,3)\n",
    "circ.h(0)\n",
    "circ.h(1)\n",
    "circ.h(2)\n",
    "for k in range(3):\n",
    "    circ.measure(k,k)\n",
    "circ.draw('mpl')# Run the code in this cell to see the widget"
   ]
  },
  {
   "cell_type": "code",
   "execution_count": 111,
   "id": "0447dda2-7021-41af-8ff8-f303a4a6676b",
   "metadata": {},
   "outputs": [
    {
     "data": {
      "image/png": "[encoded data removed]",
      "text/plain": [
       "<Figure size 504x360 with 1 Axes>"
      ]
     },
     "execution_count": 111,
     "metadata": {},
     "output_type": "execute_result"
    }
   ],
   "source": [
    "backend = BasicAer.get_backend('qasm_simulator')\n",
    "job = execute(circ,backend,shots=1024)\n",
    "result = job.result()\n",
    "counts = result.get_counts(circ)\n",
    "plot_histogram(counts)"
   ]
  },
  {
   "cell_type": "markdown",
   "id": "ec09abc9-d989-4476-b0ba-50f1fabca68c",
   "metadata": {},
   "source": [
    "## 4.2 Building a simple Quantum Circuit\n",
    "\n",
    "As we see before, the basic element needed for your first program is the QuantumCircuit. We begin by creating a QuantumCircuit comprised of three qubits."
   ]
  },
  {
   "cell_type": "code",
   "execution_count": 112,
   "id": "03299fb4-bc59-4962-9eeb-f201e07e10a3",
   "metadata": {},
   "outputs": [],
   "source": [
    "# Create a Quantum Circuit acting on a quantum register of three qubits\n",
    "circ = QuantumCircuit(3)"
   ]
  },
  {
   "cell_type": "markdown",
   "id": "8e0e4067-1522-41e3-adb4-88cabd72297a",
   "metadata": {},
   "source": [
    "After we create the circuit with its registers, we can add gates (\"operations\") to manipulate the registers. Below is an example of a quantum circuit that makes a three-qubit state (this is aka GHZ state)\n",
    "\n",
    "$|\\psi\\rangle = \\left(|000\\rangle+|111\\rangle\\right)/\\sqrt{2}$.\n",
    "\n",
    "\n",
    "To create such a state, we start with a three-qubit quantum register. By default, each qubit in the register is initialized to $|0\\rangle$. \n",
    "To make the GHZ state, we apply the following gates:\n",
    "* A Hadamard gate $H$ on qubit 0, which puts it into the superposition state $\\left(|0\\rangle+|1\\rangle\\right)/\\sqrt{2}$.\n",
    "* A controlled-Not operation ($C_{X}$) between qubit 0 and qubit 1.\n",
    "* A controlled-Not operation between qubit 0 and qubit 2.\n",
    "\n",
    "On an ideal quantum computer, the state produced by running this circuit would be the GHZ state above.\n",
    "\n",
    "In Qiskit, operations can be added to the circuit one by one, as shown below."
   ]
  },
  {
   "cell_type": "code",
   "execution_count": 113,
   "id": "48bc83ec-31aa-47f5-bc72-1ef288fb4890",
   "metadata": {},
   "outputs": [
    {
     "data": {
      "image/png": "[encoded data removed]",
      "text/plain": [
       "<Figure size 267.197x204.68 with 1 Axes>"
      ]
     },
     "execution_count": 113,
     "metadata": {},
     "output_type": "execute_result"
    }
   ],
   "source": [
    "# Add a H gate on qubit 0, putting this qubit in superposition.\n",
    "circ.h(0)\n",
    "# Add a CX (CNOT) gate on control qubit 0 and target qubit 1, putting\n",
    "# the qubits in a Bell state.\n",
    "circ.cx(0, 1)\n",
    "# Add a CX (CNOT) gate on control qubit 0 and target qubit 2, putting\n",
    "# the qubits in a GHZ state.\n",
    "circ.cx(0, 2)\n",
    "# Visualize the Circuit using Qiskit QuantumCircuit.draw()\n",
    "circ.draw('mpl')"
   ]
  },
  {
   "cell_type": "markdown",
   "id": "bf775b2d-6767-4a69-89a6-3e981eaa0911",
   "metadata": {},
   "source": [
    "### Note\n",
    "In this circuit, the qubits are put in order, with qubit zero at the top and qubit two at the bottom. The circuit is read left to right (meaning that gates that are applied earlier in the circuit show up further to the left)."
   ]
  },
  {
   "cell_type": "markdown",
   "id": "ad2af42e-edda-43c4-b602-9ec2e1a6c878",
   "metadata": {},
   "source": [
    "## Simulating circuits using Qiskit Aer\n",
    "\n",
    "Qiskit Aer is our package for simulating quantum circuits. It provides many different backends for doing a simulation. There is also a basic, Python only, implementation called BasicAer (which can be used as a drop-in replacement for Aer)\n",
    "\n",
    "Statevector backend\n",
    "\n",
    "The most common backend in Qiskit Aer is the statevector_simulator. This simulator returns the quantum state, which is a complex vector of dimensions $2^n$, where $n$ is the number of qubits (so be careful using this as it will quickly get too large to run on your machine).\n",
    "\n",
    "To run the above circuit using the statevector simulator, first you need to import Aer and then set the backend to statevector_simulator. Once the backend has been chosen, it's time to compile and run the quantum circuit. In Qiskit we provide the execute function for this. execute returns a job object that encapsulates information about the job submitted to the backend.\n",
    "\n",
    "When you run a program, a job object is made that has the following two useful methods: job.status() and job.result(), which return the status of the job and a result object, respectively.\n",
    "Note: Jobs run asynchronously, but when the result method is called, it switches to synchronous and waits for it to finish before moving on to another task.\n",
    "\n",
    "The results object contains the data and Qiskit provides the method result.get_statevector(circ) to return the state vector for the quantum circuit."
   ]
  },
  {
   "cell_type": "code",
   "execution_count": 114,
   "id": "f2811ad7-4b1b-4769-a686-4d78934bee77",
   "metadata": {},
   "outputs": [
    {
     "name": "stdout",
     "output_type": "stream",
     "text": [
      "Statevector([0.707+0.j, 0.   +0.j, 0.   +0.j, 0.   +0.j, 0.   +0.j,\n",
      "             0.   +0.j, 0.   +0.j, 0.707+0.j],\n",
      "            dims=(2, 2, 2))\n"
     ]
    }
   ],
   "source": [
    "# Import Aer\n",
    "from qiskit import Aer\n",
    "\n",
    "# Run the quantum circuit on a statevector simulator backend\n",
    "backend = Aer.get_backend('statevector_simulator')\n",
    "\n",
    "# Create a Quantum Program for execution \n",
    "job = backend.run(circ)\n",
    "\n",
    "result = job.result()\n",
    "\n",
    "outputstate = result.get_statevector(circ, decimals=3)\n",
    "print(outputstate)"
   ]
  },
  {
   "cell_type": "code",
   "execution_count": 115,
   "id": "91d3d56c-4683-4c68-abf5-8760ce2aacca",
   "metadata": {},
   "outputs": [
    {
     "data": {
      "image/png": "[encoded data removed]",
      "text/plain": [
       "<Figure size 1080x360 with 2 Axes>"
      ]
     },
     "execution_count": 115,
     "metadata": {},
     "output_type": "execute_result"
    }
   ],
   "source": [
    "from qiskit.visualization import plot_state_city\n",
    "plot_state_city(outputstate)"
   ]
  },
  {
   "cell_type": "markdown",
   "id": "4b7d742c-0bf4-4529-8c0a-00b84febe3e2",
   "metadata": {},
   "source": [
    "## 4.3 Creating an Entangled 3 Qubits"
   ]
  },
  {
   "cell_type": "code",
   "execution_count": 116,
   "id": "dcd34db6-854b-44f2-ae0c-27d0f21e1cf1",
   "metadata": {},
   "outputs": [
    {
     "data": {
      "image/png": "[encoded data removed]",
      "text/plain": [
       "<Figure size 447.797x264.88 with 1 Axes>"
      ]
     },
     "execution_count": 116,
     "metadata": {},
     "output_type": "execute_result"
    }
   ],
   "source": [
    "circ = QuantumCircuit(3,3)\n",
    "circ.h(0)\n",
    "circ.cx(0,1)\n",
    "circ.cx(0,2)\n",
    "for i in range(3):\n",
    "    circ.measure(i,i)\n",
    "circ.draw('mpl')"
   ]
  },
  {
   "cell_type": "code",
   "execution_count": 117,
   "id": "dd91f970-8b92-4eaa-9e28-7ed279daa47a",
   "metadata": {},
   "outputs": [
    {
     "data": {
      "image/png": "[encoded data removed]",
      "text/plain": [
       "<Figure size 504x360 with 1 Axes>"
      ]
     },
     "execution_count": 117,
     "metadata": {},
     "output_type": "execute_result"
    }
   ],
   "source": [
    "backend = BasicAer.get_backend('qasm_simulator')\n",
    "job = execute(circ,backend,shots=1024)\n",
    "result = job.result()\n",
    "counts = result.get_counts(circ)\n",
    "plot_histogram(counts)"
   ]
  },
  {
   "cell_type": "markdown",
   "id": "37195356-78f3-4ee7-85cd-7b644ab2329e",
   "metadata": {},
   "source": [
    "## 4.4 Creating a Pair of Entangled Qubits"
   ]
  },
  {
   "cell_type": "code",
   "execution_count": 118,
   "id": "009c60b2-14e6-4dab-85ae-63e6d52e248e",
   "metadata": {},
   "outputs": [
    {
     "data": {
      "image/png": "[encoded data removed]",
      "text/plain": [
       "<Figure size 327.252x204.68 with 1 Axes>"
      ]
     },
     "execution_count": 118,
     "metadata": {},
     "output_type": "execute_result"
    }
   ],
   "source": [
    "circ = QuantumCircuit(2,2)\n",
    "circ.h(0)\n",
    "circ.x(1)\n",
    "circ.cx(0,1)\n",
    "for i in range(2):\n",
    "    circ.measure(i,i)\n",
    "circ.draw('mpl')"
   ]
  },
  {
   "cell_type": "code",
   "execution_count": 119,
   "id": "62650db0-91ef-468f-86c4-43cfe5ce831a",
   "metadata": {},
   "outputs": [
    {
     "data": {
      "image/png": "[encoded data removed]",
      "text/plain": [
       "<Figure size 504x360 with 1 Axes>"
      ]
     },
     "execution_count": 119,
     "metadata": {},
     "output_type": "execute_result"
    }
   ],
   "source": [
    "backend = BasicAer.get_backend('qasm_simulator')\n",
    "job = execute(circ,backend,shots=1024)\n",
    "result = job.result()\n",
    "counts = result.get_counts(circ)\n",
    "plot_histogram(counts)"
   ]
  },
  {
   "cell_type": "code",
   "execution_count": null,
   "id": "1e0f9861",
   "metadata": {},
   "outputs": [],
   "source": []
  },
  {
   "cell_type": "code",
   "execution_count": null,
   "id": "c21a2a05",
   "metadata": {},
   "outputs": [],
   "source": []
  }
 ],
 "metadata": {
  "kernelspec": {
   "display_name": "Python 3 (ipykernel)",
   "language": "python",
   "name": "python3"
  },
  "language_info": {
   "codemirror_mode": {
    "name": "ipython",
    "version": 3
   },
   "file_extension": ".py",
   "mimetype": "text/x-python",
   "name": "python",
   "nbconvert_exporter": "python",
   "pygments_lexer": "ipython3",
   "version": "3.9.7"
  }
 },
 "nbformat": 4,
 "nbformat_minor": 5
}
